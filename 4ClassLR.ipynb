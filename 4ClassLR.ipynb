{
 "cells": [
  {
   "cell_type": "code",
   "execution_count": 1,
   "metadata": {
    "collapsed": false
   },
   "outputs": [],
   "source": [
    "import torch\n",
    "import pandas as pd\n",
    "import numpy as np\n",
    "import matplotlib.pyplot as plt\n",
    "from torch.utils.data import Dataset, DataLoader\n",
    "from torchvision import transforms, utils\n",
    "from torchvision.transforms import ToTensor,Resize\n",
    "\n",
    "from PIL import Image\n",
    "# Ignore warnings\n",
    "import warnings\n",
    "warnings.filterwarnings(\"ignore\")\n",
    "\n",
    "import os\n",
    "import numpy as np\n",
    "import time\n",
    "import sys\n",
    "import csv\n",
    "import matplotlib.pyplot as plt\n",
    "\n",
    "import torch\n",
    "import torch.nn as nn\n",
    "import torch.backends.cudnn as cudnn\n",
    "import torchvision\n",
    "import torchvision.transforms as transforms\n",
    "import torch.optim as optim\n",
    "import torch.nn.functional as tfunc\n",
    "from torch.utils.data import Dataset\n",
    "from torch.utils.data.dataset import random_split\n",
    "from torch.utils.data import DataLoader\n",
    "from torch.optim.lr_scheduler import ReduceLROnPlateau\n",
    "from PIL import Image\n",
    "import torch.nn.functional as func\n",
    "\n",
    "from sklearn.metrics.ranking import roc_auc_score\n",
    "import sklearn.metrics as metrics\n",
    "import random\n",
    "\n",
    "use_gpu = torch.cuda.is_available()"
   ]
  },
  {
   "cell_type": "code",
   "execution_count": 2,
   "metadata": {
    "collapsed": false
   },
   "outputs": [],
   "source": [
    "#Utility functions for cleaning the data\n",
    "\n",
    "def cleanLabel(x):\n",
    "    \n",
    "    labelCount = 0    \n",
    "    if x.Pleural_Effusion == 1:\n",
    "        labelCount += 1\n",
    "    if x.Edema == 1:\n",
    "        labelCount += 1\n",
    "    if x.Cardiomegaly ==1:\n",
    "        labelCount += 1\n",
    "    if x.Pneumonia == 1:\n",
    "        labelCount += 1\n",
    "    return labelCount\n",
    "    \n",
    "    \n",
    "\n",
    "def getLabel(x):\n",
    "    \n",
    "    if x.Pleural_Effusion ==1:\n",
    "        return \"Pleural_Effusion\"\n",
    "    elif x.Edema == 1:\n",
    "        return \"Edema\"\n",
    "    elif x.Cardiomegaly==1:\n",
    "        return \"Cardiomegaly\"\n",
    "    elif x.Pneumonia == 1:\n",
    "        return \"Pneumonia\"\n",
    "    else:\n",
    "        return \"0\""
   ]
  },
  {
   "cell_type": "code",
   "execution_count": 3,
   "metadata": {
    "collapsed": true
   },
   "outputs": [],
   "source": [
    "cols = ['Path',\n",
    " 'Sex',\n",
    " 'Age',\n",
    " 'View',\n",
    " 'AP/PA',\n",
    " 'No_Finding',\n",
    " 'Enlarged_Cardiomediastinum',\n",
    " 'Cardiomegaly',\n",
    " 'Lung_Opacity',\n",
    " 'Lung_Lesion',\n",
    " 'Edema',\n",
    " 'Consolidation',\n",
    " 'Pneumonia',\n",
    " 'Atelectasis',\n",
    " 'Pneumothorax',\n",
    " 'Pleural_Effusion',\n",
    " 'Pleural_Other',\n",
    " 'Fracture',\n",
    " 'Support_Devices']"
   ]
  },
  {
   "cell_type": "code",
   "execution_count": 4,
   "metadata": {
    "collapsed": false
   },
   "outputs": [
    {
     "name": "stdout",
     "output_type": "stream",
     "text": [
      "\u001b[34mCheXpert-v1.0-small\u001b[m\u001b[m           densenet_lateral.pt\r\n",
      "LRWithReplacement.ipynb       \u001b[34mlogs\u001b[m\u001b[m\r\n",
      "LRWithReplacement4Class.ipynb modProject.ipynb\r\n",
      "Project.ipynb                 \u001b[34mtrain\u001b[m\u001b[m\r\n",
      "ROC1345.png                   train.csv\r\n",
      "TestModels.ipynb              \u001b[34mvalid\u001b[m\u001b[m\r\n",
      "cnn_14_10epchs.pt             valid.csv\r\n",
      "densenet_5epochs.pt           validNew2.csv\r\n",
      "densenet_frontal.pt           vatsal.py\r\n"
     ]
    }
   ],
   "source": [
    "!ls"
   ]
  },
  {
   "cell_type": "code",
   "execution_count": 5,
   "metadata": {
    "collapsed": true
   },
   "outputs": [],
   "source": [
    "labelMap = {\"Pleural_Effusion\":0, \"Edema\":1,\"Cardiomegaly\":2,\"Pneumonia\":3}\n",
    "\n",
    "def getLabelDf(x):\n",
    "    x = x[36:]          #To account for the extra \"././\" added before the Path variable\n",
    "    x = df.loc[df.Path == x] \n",
    "    return labelMap[x.label.values[0]]"
   ]
  },
  {
   "cell_type": "code",
   "execution_count": 6,
   "metadata": {
    "collapsed": true
   },
   "outputs": [],
   "source": [
    "class LungDataset(Dataset):\n",
    "    \n",
    "\n",
    "    def __init__(self, csvFile, rootDir, transform = None):\n",
    "        \"\"\"\n",
    "        Args:\n",
    "            rootDir : Directory that has train, valid, train.csv and valid.csv\n",
    "            csvFile : train.csv or valid.csv\n",
    "        \"\"\"\n",
    "        \n",
    "        self.rootDir = rootDir\n",
    "        self.transform = transform\n",
    "        \n",
    "        cols = ['Path',\n",
    "                 'Sex',\n",
    "                 'Age',\n",
    "                 'View',\n",
    "                 'AP/PA',\n",
    "                 'No_Finding',\n",
    "                 'Enlarged_Cardiomediastinum',\n",
    "                 'Cardiomegaly',\n",
    "                 'Lung_Opacity',\n",
    "                 'Lung_Lesion',\n",
    "                 'Edema',\n",
    "                 'Consolidation',\n",
    "                 'Pneumonia',\n",
    "                 'Atelectasis',\n",
    "                 'Pneumothorax',\n",
    "                 'Pleural_Effusion',\n",
    "                 'Pleural_Other',\n",
    "                 'Fracture',\n",
    "                 'Support_Devices']\n",
    "        \n",
    "        self.df = pd.read_csv(os.path.join(rootDir,csvFile), names = cols, header=0)\n",
    "        \n",
    "        \n",
    "        #Modifying the path variable\n",
    "        self.df[\"Path\"] = self.df.Path.apply(lambda x : x.replace('CheXpert-v1.0-small',\"\")[1:])\n",
    "        \n",
    "        #retaining important vars\n",
    "        selectCols = ['Path',\"View\",'Sex',\"Pleural_Effusion\", \"Edema\",\"Cardiomegaly\",\"Pneumonia\"]\n",
    "        self.df = self.df[selectCols]\n",
    "        \n",
    "        self.df['isClean'] = self.df.apply(lambda x : cleanLabel(x), axis = 1)\n",
    "\n",
    "        #Retaining only samples with 1 disease\n",
    "        self.df = self.df[self.df.isClean==1]\n",
    "        \n",
    "        #Creating the label variable\n",
    "        self.df['label'] = self.df.apply(lambda x : labelMap[getLabel(x)], axis = 1)\n",
    "                \n",
    "\n",
    "\n",
    "\n",
    "    def __len__(self):\n",
    "        return len(self.df)\n",
    "\n",
    "    def __getitem__(self, idx):\n",
    "        \n",
    "        imgPath = os.path.join( self.rootDir, self.df.iloc[idx].Path)\n",
    "        image = Image.open(imgPath).convert('RGB')\n",
    "        \n",
    "        label = self.df.iloc[idx].label\n",
    "\n",
    "        if self.transform:\n",
    "            image = self.transform(image)\n",
    "\n",
    "        return image, label"
   ]
  },
  {
   "cell_type": "code",
   "execution_count": 7,
   "metadata": {
    "collapsed": true
   },
   "outputs": [],
   "source": [
    "baseFolder = \"./\"\n",
    "trainDataset = LungDataset('train.csv', baseFolder, transforms.Compose([Resize((256,256)), ToTensor()]))\n",
    "validationDataset = LungDataset('valid.csv', baseFolder, transforms.Compose([Resize((256,256)), ToTensor()]))"
   ]
  },
  {
   "cell_type": "code",
   "execution_count": 8,
   "metadata": {
    "collapsed": false
   },
   "outputs": [
    {
     "data": {
      "text/plain": [
       "torch.Size([3, 256, 256])"
      ]
     },
     "execution_count": 8,
     "metadata": {},
     "output_type": "execute_result"
    }
   ],
   "source": [
    "e = next(iter(trainDataset))\n",
    "e[0].size()"
   ]
  },
  {
   "cell_type": "code",
   "execution_count": 9,
   "metadata": {
    "collapsed": true
   },
   "outputs": [],
   "source": [
    "train_data_loader = DataLoader(trainDataset, batch_size= 32, shuffle = True, num_workers = 4)\n",
    "validation_loader = DataLoader(validationDataset, batch_size= 32, shuffle = True, num_workers = 4)"
   ]
  },
  {
   "cell_type": "code",
   "execution_count": 10,
   "metadata": {
    "collapsed": true
   },
   "outputs": [],
   "source": [
    "LOG_DIR = './logs'\n",
    "get_ipython().system_raw(\n",
    "    'tensorboard --logdir {} --host 0.0.0.0 --port 6006 &'\n",
    "    .format(LOG_DIR)\n",
    ")\n",
    "\n",
    "!if [ -f ngrok ] ; then echo \"Ngrok already installed\" ; else wget https://bin.equinox.io/c/4VmDzA7iaHb/ngrok-stable-linux-amd64.zip > /dev/null 2>&1 && unzip ngrok-stable-linux-amd64.zip > /dev/null 2>&1 ; fi"
   ]
  },
  {
   "cell_type": "code",
   "execution_count": 11,
   "metadata": {
    "collapsed": true
   },
   "outputs": [],
   "source": [
    "get_ipython().system_raw('./ngrok http 6006 &')"
   ]
  },
  {
   "cell_type": "code",
   "execution_count": 12,
   "metadata": {
    "collapsed": false
   },
   "outputs": [
    {
     "name": "stdout",
     "output_type": "stream",
     "text": [
      "Traceback (most recent call last):\r\n",
      "  File \"<string>\", line 1, in <module>\r\n",
      "  File \"/Users/CraigFan/anaconda3/lib/python3.6/json/__init__.py\", line 299, in load\r\n",
      "    parse_constant=parse_constant, object_pairs_hook=object_pairs_hook, **kw)\r\n",
      "  File \"/Users/CraigFan/anaconda3/lib/python3.6/json/__init__.py\", line 354, in loads\r\n",
      "    return _default_decoder.decode(s)\r\n",
      "  File \"/Users/CraigFan/anaconda3/lib/python3.6/json/decoder.py\", line 339, in decode\r\n",
      "    obj, end = self.raw_decode(s, idx=_w(s, 0).end())\r\n",
      "  File \"/Users/CraigFan/anaconda3/lib/python3.6/json/decoder.py\", line 357, in raw_decode\r\n",
      "    raise JSONDecodeError(\"Expecting value\", s, err.value) from None\r\n",
      "json.decoder.JSONDecodeError: Expecting value: line 1 column 1 (char 0)\r\n"
     ]
    }
   ],
   "source": [
    "! curl -s http://localhost:4040/api/tunnels | python3 -c \\\n",
    "    \"import sys, json; print('Tensorboard Link: ' +str(json.load(sys.stdin)['tunnels'][0]['public_url']))\""
   ]
  },
  {
   "cell_type": "code",
   "execution_count": 13,
   "metadata": {
    "collapsed": true
   },
   "outputs": [],
   "source": [
    "# Code referenced from https://gist.github.com/gyglim/1f8dfb1b5c82627ae3efcfbbadb9f514\n",
    "import tensorflow as tf\n",
    "import numpy as np\n",
    "import scipy.misc \n",
    "try:\n",
    "    from StringIO import StringIO  # Python 2.7\n",
    "except ImportError:\n",
    "    from io import BytesIO         # Python 3.x\n",
    "\n",
    "\n",
    "class Logger(object):\n",
    "    \n",
    "    def __init__(self, log_dir):\n",
    "        \"\"\"Create a summary writer logging to log_dir.\"\"\"\n",
    "        self.writer = tf.summary.FileWriter(log_dir)\n",
    "\n",
    "    def scalar_summary(self, tag, value, step):\n",
    "        \"\"\"Log a scalar variable.\"\"\"\n",
    "        summary = tf.Summary(value=[tf.Summary.Value(tag=tag, simple_value=value)])\n",
    "        self.writer.add_summary(summary, step)\n",
    "\n",
    "    def image_summary(self, tag, images, step):\n",
    "        \"\"\"Log a list of images.\"\"\"\n",
    "\n",
    "        img_summaries = []\n",
    "        for i, img in enumerate(images):\n",
    "            # Write the image to a string\n",
    "            try:\n",
    "                s = StringIO()\n",
    "            except:\n",
    "                s = BytesIO()\n",
    "            scipy.misc.toimage(img).save(s, format=\"png\")\n",
    "\n",
    "            # Create an Image object\n",
    "            img_sum = tf.Summary.Image(encoded_image_string=s.getvalue(),\n",
    "                                       height=img.shape[0],\n",
    "                                       width=img.shape[1])\n",
    "            # Create a Summary value\n",
    "            img_summaries.append(tf.Summary.Value(tag='%s/%d' % (tag, i), image=img_sum))\n",
    "\n",
    "        # Create and write Summary\n",
    "        summary = tf.Summary(value=img_summaries)\n",
    "        self.writer.add_summary(summary, step)\n",
    "        \n",
    "    def histo_summary(self, tag, values, step, bins=1000):\n",
    "        \"\"\"Log a histogram of the tensor of values.\"\"\"\n",
    "\n",
    "        # Create a histogram using numpy\n",
    "        counts, bin_edges = np.histogram(values, bins=bins)\n",
    "\n",
    "        # Fill the fields of the histogram proto\n",
    "        hist = tf.HistogramProto()\n",
    "        hist.min = float(np.min(values))\n",
    "        hist.max = float(np.max(values))\n",
    "        hist.num = int(np.prod(values.shape))\n",
    "        hist.sum = float(np.sum(values))\n",
    "        hist.sum_squares = float(np.sum(values**2))\n",
    "\n",
    "        # Drop the start of the first bin\n",
    "        bin_edges = bin_edges[1:]\n",
    "\n",
    "        # Add bin edges and counts\n",
    "        for edge in bin_edges:\n",
    "            hist.bucket_limit.append(edge)\n",
    "        for c in counts:\n",
    "            hist.bucket.append(c)\n",
    "\n",
    "        # Create and write Summary\n",
    "        summary = tf.Summary(value=[tf.Summary.Value(tag=tag, histo=hist)])\n",
    "        self.writer.add_summary(summary, step)\n",
    "        self.writer.flush()\n",
    "logger = Logger('./logs')\n",
    "\n",
    "\n"
   ]
  },
  {
   "cell_type": "code",
   "execution_count": 14,
   "metadata": {
    "collapsed": false
   },
   "outputs": [
    {
     "ename": "SyntaxError",
     "evalue": "invalid syntax (<ipython-input-14-cb1e11660154>, line 1)",
     "output_type": "error",
     "traceback": [
      "\u001b[0;36m  File \u001b[0;32m\"<ipython-input-14-cb1e11660154>\"\u001b[0;36m, line \u001b[0;32m1\u001b[0m\n\u001b[0;31m    Training LR\u001b[0m\n\u001b[0m              ^\u001b[0m\n\u001b[0;31mSyntaxError\u001b[0m\u001b[0;31m:\u001b[0m invalid syntax\n"
     ]
    }
   ],
   "source": [
    "Training LR"
   ]
  },
  {
   "cell_type": "code",
   "execution_count": 15,
   "metadata": {
    "collapsed": true
   },
   "outputs": [],
   "source": [
    "# Model\n",
    "class LogisticRegression(nn.Module):\n",
    "    def __init__(self, input_size, num_classes):\n",
    "        super(LogisticRegression, self).__init__()\n",
    "        self.linear = nn.Linear(input_size, num_classes)\n",
    "    \n",
    "    def forward(self, x):\n",
    "        out = self.linear(x)\n",
    "        return out"
   ]
  },
  {
   "cell_type": "code",
   "execution_count": 16,
   "metadata": {
    "collapsed": true
   },
   "outputs": [],
   "source": [
    "device = torch.device('cuda:0')\n",
    "\n",
    "input_size = 196608\n",
    "hidden_size_1 = 1024\n",
    "hidden_size_2 = 512\n",
    "hidden_size_3 = 128\n",
    "num_classes = 4\n",
    "learning_rate = 0.001\n",
    "device =  torch.device(\"cuda:0\" if torch.cuda.is_available() else \"cpu\")\n",
    "\n",
    "model = LogisticRegression(input_size, num_classes).to(device)\n",
    "model = model.to(device)"
   ]
  },
  {
   "cell_type": "code",
   "execution_count": 17,
   "metadata": {
    "collapsed": true
   },
   "outputs": [],
   "source": [
    "learning_rate = 0.001\n",
    "# Loss and optimizer\n",
    "criterion = nn.CrossEntropyLoss()\n",
    "optimizer = torch.optim.Adam(model.parameters(), lr=learning_rate)\n",
    "epochs = 1\n",
    "\n",
    "iterationAccuracy = []\n",
    "iterationLoss = []\n",
    "\n",
    "# Train the model\n",
    "def train(net, optimizer, criterion, trainLoader, test_loader, epochs, size, model_name,plot):\n",
    "  model = net.to(device)\n",
    "  overall_step = 0;\n",
    "  for epoch in range(epochs):\n",
    "    loss_epoch = 0\n",
    "    for batch, (image, label) in enumerate(trainLoader):\n",
    "        image = image.reshape(-1, size).to(device)\n",
    "        image, label = image.to(device), label.to(device)\n",
    "        optimizer.zero_grad()\n",
    "        output = model(image)\n",
    "        \n",
    "        loss = criterion(output, label)\n",
    "        loss_epoch = loss\n",
    "        #print(loss)\n",
    "        loss.backward()\n",
    "\n",
    "        optimizer.step()\n",
    "        \n",
    "        _, prediction = torch.max(output,1)\n",
    "        accuracy = (label == prediction.squeeze()).float().mean()\n",
    "        overall_step+=1\n",
    "        \n",
    "        if(batch % 10 == 0):\n",
    "            iterationAccuracy.append((batch, accuracy))\n",
    "            iterationLoss.append((batch, loss))\n",
    "            print(batch)\n",
    "        \n",
    "        if plot:\n",
    "          info = { ('loss_' + model_name): loss.item(), ('accuracy_' + model_name): accuracy.item() }\n",
    "          for tag, value in info.items():\n",
    "            logger.scalar_summary(tag, value, overall_step+1)\n",
    "\n",
    "        "
   ]
  },
  {
   "cell_type": "code",
   "execution_count": 26,
   "metadata": {
    "collapsed": false
   },
   "outputs": [
    {
     "name": "stdout",
     "output_type": "stream",
     "text": [
      "0\n",
      "10\n",
      "20\n",
      "30\n",
      "40\n",
      "50\n",
      "60\n",
      "70\n",
      "80\n",
      "90\n",
      "100\n",
      "110\n",
      "120\n",
      "130\n",
      "140\n",
      "150\n",
      "160\n",
      "170\n",
      "180\n",
      "190\n",
      "200\n",
      "210\n",
      "220\n",
      "230\n",
      "240\n",
      "250\n",
      "260\n",
      "270\n",
      "280\n",
      "290\n",
      "300\n",
      "310\n",
      "320\n",
      "330\n",
      "340\n",
      "350\n",
      "360\n",
      "370\n",
      "380\n",
      "390\n",
      "400\n",
      "410\n",
      "420\n",
      "430\n",
      "440\n",
      "450\n",
      "460\n",
      "470\n",
      "480\n",
      "490\n",
      "500\n",
      "510\n",
      "520\n",
      "530\n",
      "540\n",
      "550\n",
      "560\n",
      "570\n",
      "580\n",
      "590\n",
      "600\n",
      "610\n",
      "620\n",
      "630\n",
      "640\n",
      "650\n",
      "660\n",
      "670\n",
      "680\n",
      "690\n",
      "700\n",
      "710\n",
      "720\n",
      "730\n",
      "740\n",
      "750\n",
      "760\n",
      "770\n",
      "780\n",
      "790\n",
      "800\n",
      "810\n",
      "820\n",
      "830\n",
      "840\n",
      "850\n",
      "860\n",
      "870\n",
      "880\n",
      "890\n",
      "900\n",
      "910\n",
      "920\n",
      "930\n",
      "940\n",
      "950\n",
      "960\n",
      "970\n",
      "980\n",
      "990\n",
      "1000\n",
      "1010\n",
      "1020\n",
      "1030\n",
      "1040\n",
      "1050\n",
      "1060\n",
      "1070\n",
      "1080\n",
      "1090\n",
      "1100\n",
      "1110\n",
      "1120\n",
      "1130\n",
      "1140\n",
      "1150\n",
      "1160\n",
      "1170\n",
      "1180\n",
      "1190\n",
      "1200\n",
      "1210\n",
      "1220\n",
      "1230\n",
      "1240\n",
      "1250\n",
      "1260\n",
      "1270\n",
      "1280\n",
      "1290\n",
      "1300\n",
      "1310\n",
      "1320\n",
      "1330\n",
      "1340\n",
      "1350\n",
      "1360\n",
      "1370\n",
      "1380\n",
      "1390\n",
      "1400\n",
      "1410\n",
      "1420\n",
      "1430\n",
      "1440\n",
      "1450\n",
      "1460\n",
      "1470\n",
      "1480\n",
      "1490\n",
      "1500\n",
      "1510\n",
      "1520\n",
      "1530\n",
      "1540\n",
      "1550\n",
      "1560\n",
      "1570\n",
      "1580\n",
      "1590\n",
      "1600\n",
      "1610\n",
      "1620\n",
      "1630\n",
      "1640\n",
      "1650\n",
      "1660\n",
      "1670\n",
      "1680\n",
      "1690\n",
      "1700\n",
      "1710\n",
      "1720\n",
      "1730\n",
      "1740\n",
      "1750\n",
      "1760\n",
      "1770\n",
      "1780\n",
      "1790\n",
      "1800\n",
      "1810\n",
      "1820\n",
      "1830\n",
      "1840\n",
      "1850\n",
      "1860\n",
      "1870\n",
      "1880\n",
      "1890\n",
      "1900\n",
      "1910\n",
      "1920\n",
      "1930\n",
      "1940\n",
      "1950\n",
      "1960\n",
      "1970\n",
      "1980\n",
      "1990\n",
      "2000\n",
      "2010\n",
      "2020\n",
      "2030\n",
      "2040\n",
      "2050\n",
      "2060\n",
      "2070\n",
      "2080\n",
      "2090\n",
      "2100\n",
      "2110\n",
      "2120\n",
      "2130\n",
      "2140\n",
      "2150\n",
      "2160\n",
      "2170\n",
      "2180\n",
      "2190\n",
      "2200\n",
      "2210\n",
      "2220\n",
      "2230\n",
      "2240\n",
      "2250\n",
      "2260\n",
      "2270\n",
      "2280\n",
      "2290\n",
      "2300\n",
      "2310\n",
      "2320\n",
      "2330\n",
      "2340\n",
      "2350\n",
      "2360\n",
      "2370\n",
      "2380\n",
      "2390\n",
      "2400\n",
      "2410\n",
      "2420\n",
      "2430\n",
      "2440\n",
      "2450\n",
      "2460\n",
      "2470\n",
      "2480\n",
      "2490\n",
      "2500\n",
      "2510\n",
      "2520\n",
      "2530\n",
      "2540\n",
      "2550\n",
      "2560\n",
      "2570\n",
      "2580\n",
      "2590\n",
      "2600\n",
      "2610\n",
      "2620\n",
      "2630\n",
      "2640\n"
     ]
    }
   ],
   "source": [
    "train(model, optimizer, criterion, train_data_loader, validation_loader, epochs, 196608 , 'LR', True)"
   ]
  },
  {
   "cell_type": "code",
   "execution_count": 27,
   "metadata": {
    "collapsed": false
   },
   "outputs": [
    {
     "data": {
      "text/plain": [
       "(2640, tensor(0.5312))"
      ]
     },
     "execution_count": 27,
     "metadata": {},
     "output_type": "execute_result"
    }
   ],
   "source": [
    "iterationAccuracy[-1]"
   ]
  },
  {
   "cell_type": "code",
   "execution_count": 28,
   "metadata": {
    "collapsed": true
   },
   "outputs": [],
   "source": [
    "#iterationLoss[-1]\n",
    "batch = []\n",
    "loss = []\n",
    "for i in range(len(iterationLoss)):\n",
    "    batch.append(iterationLoss[i][0])\n",
    "    loss.append(iterationLoss[i][1])"
   ]
  },
  {
   "cell_type": "code",
   "execution_count": 29,
   "metadata": {
    "collapsed": false
   },
   "outputs": [
    {
     "data": {
      "image/png": "[encoded data removed]",
      "text/plain": [
       "<matplotlib.figure.Figure at 0x1196e0940>"
      ]
     },
     "metadata": {},
     "output_type": "display_data"
    }
   ],
   "source": [
    "plt.plot(batch, loss)\n",
    "plt.xlabel('Batches', fontsize = 30)\n",
    "plt.ylabel('Loss', fontsize = 30)\n",
    "plt.xticks(fontsize = 20)\n",
    "plt.yticks(fontsize = 20)\n",
    "plt.title(\"Logistic Regression Batch vs Loss for 4 class\", fontsize = 20)\n",
    "plt.show()"
   ]
  },
  {
   "cell_type": "code",
   "execution_count": 30,
   "metadata": {
    "collapsed": true
   },
   "outputs": [],
   "source": [
    "from torch.autograd import Variable\n",
    "def to_one_hot(y, n_dims=None):\n",
    "    \"\"\" Take integer y (tensor or variable) with n dims and convert it to 1-hot representation with n+1 dims. \"\"\"\n",
    "    y_tensor = y.data if isinstance(y, Variable) else y\n",
    "    y_tensor = y_tensor.type(torch.LongTensor).view(-1, 1)\n",
    "    n_dims = n_dims if n_dims is not None else int(torch.max(y_tensor)) + 1\n",
    "    y_one_hot = torch.zeros(y_tensor.size()[0], n_dims).scatter_(1, y_tensor, 1)\n",
    "    y_one_hot = y_one_hot.view(*y.shape, -1)\n",
    "    return Variable(y_one_hot) if isinstance(y, Variable) else y_one_hot"
   ]
  },
  {
   "cell_type": "code",
   "execution_count": 31,
   "metadata": {
    "collapsed": true
   },
   "outputs": [],
   "source": [
    "def computeAUROC (data, dataPRED, classCount):\n",
    "\n",
    "    outAUROC = []\n",
    "\n",
    "    datanpGT = data.numpy()\n",
    "    datanpPRED = dataPRED.numpy()\n",
    "\n",
    "    for i in range(classCount):\n",
    "        try:\n",
    "            outAUROC.append(roc_auc_score(datanpGT[:, i], datanpPRED[:, i]))\n",
    "        except ValueError:\n",
    "            pass\n",
    "    return outAUROC\n",
    "\n",
    "\n",
    "#-------------------------------------------------------------------------------- \n",
    "\n",
    "\n",
    "def test(model, dataLoaderTest, nnClassCount, class_names):   \n",
    "\n",
    "   \n",
    "    #outGT = torch.FloatTensor().cuda()\n",
    "    #outPRED = torch.FloatTensor().cuda()\n",
    "    \n",
    "    outGT = torch.FloatTensor()\n",
    "    outPRED = torch.FloatTensor()\n",
    "    \n",
    "    model.eval()\n",
    "\n",
    "    with torch.no_grad():\n",
    "        for image, label in dataLoaderTest:\n",
    "            image = image.reshape(-1, 196608)\n",
    "            target = to_one_hot(label, 4)\n",
    "            outGT = torch.cat((outGT, target), 0)\n",
    "\n",
    "            out = model(image)\n",
    "            outPRED = torch.cat((outPRED, out), 0)\n",
    "        \n",
    "    aurocIndividual = computeAUROC(outGT, outPRED, nnClassCount)\n",
    "    aurocMean = np.array(aurocIndividual).mean()\n",
    "\n",
    "    print ('AUROC mean ', aurocMean)\n",
    "\n",
    "    for i in range (0, len(aurocIndividual)):\n",
    "        print (class_names[i], ' ', aurocIndividual[i])\n",
    "\n",
    "    return outGT, outPRED"
   ]
  },
  {
   "cell_type": "code",
   "execution_count": 32,
   "metadata": {
    "collapsed": false
   },
   "outputs": [
    {
     "name": "stdout",
     "output_type": "stream",
     "text": [
      "AUROC mean  0.522946143004\n",
      "Pleural Effusion   0.433333333333\n",
      "Edema   0.446153846154\n",
      "Cardiomegaly   0.591085271318\n",
      "Pneumonia   0.621212121212\n"
     ]
    }
   ],
   "source": [
    "class_names = [\"Pleural Effusion\",\"Edema\",\"Cardiomegaly\",\"Pneumonia\"]\n",
    "outGT1, outPRED1 = test(model, validation_loader, 4, class_names)"
   ]
  },
  {
   "cell_type": "code",
   "execution_count": 34,
   "metadata": {
    "collapsed": false
   },
   "outputs": [
    {
     "data": {
      "image/png": "[encoded data removed]",
      "text/plain": [
       "<matplotlib.figure.Figure at 0x1251e57f0>"
      ]
     },
     "metadata": {},
     "output_type": "display_data"
    }
   ],
   "source": [
    "for i in range(4):\n",
    "    fpr, tpr, threshold = metrics.roc_curve(outGT1[:,i], outPRED1[:,i])\n",
    "    roc_auc = metrics.auc(fpr, tpr)\n",
    "    f = plt.subplot(2, 7, i+1)\n",
    "    plt.title('ROC for: ' + class_names[i])\n",
    "    plt.plot(fpr, tpr, label = 'AUC = %0.2f' % roc_auc)\n",
    "    \n",
    "    plt.legend(loc = 'lower right')\n",
    "    plt.plot([0, 1], [0, 1],'r--')\n",
    "    plt.xlim([0, 1])\n",
    "    plt.ylim([0, 1])\n",
    "    plt.ylabel('True Positive Rate')\n",
    "    plt.xlabel('False Positive Rate')\n",
    "\n",
    "fig_size = plt.rcParams[\"figure.figsize\"]\n",
    "fig_size[0] = 50\n",
    "fig_size[1] = 50\n",
    "plt.rcParams[\"figure.figsize\"] = fig_size\n",
    "\n",
    "#plt.savefig(\"ROC1345.png\", dpi=1000)\n",
    "plt.show()"
   ]
  },
  {
   "cell_type": "code",
   "execution_count": null,
   "metadata": {
    "collapsed": true
   },
   "outputs": [],
   "source": []
  },
  {
   "cell_type": "code",
   "execution_count": null,
   "metadata": {
    "collapsed": true
   },
   "outputs": [],
   "source": []
  },
  {
   "cell_type": "code",
   "execution_count": null,
   "metadata": {
    "collapsed": true
   },
   "outputs": [],
   "source": []
  },
  {
   "cell_type": "code",
   "execution_count": null,
   "metadata": {
    "collapsed": true
   },
   "outputs": [],
   "source": []
  },
  {
   "cell_type": "code",
   "execution_count": null,
   "metadata": {
    "collapsed": true
   },
   "outputs": [],
   "source": []
  }
 ],
 "metadata": {
  "kernelspec": {
   "display_name": "Python 3",
   "language": "python",
   "name": "python3"
  },
  "language_info": {
   "codemirror_mode": {
    "name": "ipython",
    "version": 3
   },
   "file_extension": ".py",
   "mimetype": "text/x-python",
   "name": "python",
   "nbconvert_exporter": "python",
   "pygments_lexer": "ipython3",
   "version": "3.6.8"
  }
 },
 "nbformat": 4,
 "nbformat_minor": 2
}
