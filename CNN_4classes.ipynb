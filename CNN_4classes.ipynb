{
  "nbformat": 4,
  "nbformat_minor": 0,
  "metadata": {
    "colab": {
      "name": "CNN-4classes.ipynb",
      "version": "0.3.2",
      "provenance": [],
      "collapsed_sections": [],
      "toc_visible": true
    },
    "kernelspec": {
      "name": "python3",
      "display_name": "Python 3"
    },
    "accelerator": "GPU"
  },
  "cells": [
    {
      "metadata": {
        "id": "XX4lzebVPwT6",
        "colab_type": "text"
      },
      "cell_type": "markdown",
      "source": [
        "#CheXpert"
      ]
    },
    {
      "metadata": {
        "id": "4gyiizaSQHP5",
        "colab_type": "code",
        "colab": {}
      },
      "cell_type": "code",
      "source": [
        "import os\n",
        "import numpy as np\n",
        "import time\n",
        "import sys\n",
        "import csv\n",
        "import cv2\n",
        "import matplotlib.pyplot as plt\n",
        "import torch\n",
        "import torch.nn as nn\n",
        "import torch.nn.functional as func\n",
        "import pandas as pd\n",
        "import numpy as np\n",
        "import matplotlib.pyplot as plt\n",
        "from torch.utils.data import Dataset, DataLoader\n",
        "from torchvision import transforms, utils\n",
        "from torchvision.transforms import ToTensor,Resize\n",
        "import torch.backends.cudnn as cudnn\n",
        "import torchvision\n",
        "import torch.optim as optim\n",
        "from PIL import Image\n",
        "from sklearn.metrics.ranking import roc_auc_score\n",
        "import sklearn.metrics as metrics\n",
        "import random\n",
        "\n",
        "# Ignore warnings\n",
        "import warnings\n",
        "warnings.filterwarnings(\"ignore\")\n",
        "\n",
        "use_gpu = torch.cuda.is_available()"
      ],
      "execution_count": 0,
      "outputs": []
    },
    {
      "metadata": {
        "id": "NoWy52zEQd_Y",
        "colab_type": "text"
      },
      "cell_type": "markdown",
      "source": [
        "Mount google drive"
      ]
    },
    {
      "metadata": {
        "id": "K52zUmD2QgEe",
        "colab_type": "code",
        "outputId": "f03329b8-776e-42a0-d55d-fdedca8bb315",
        "colab": {
          "base_uri": "https://localhost:8080/",
          "height": 122
        }
      },
      "cell_type": "code",
      "source": [
        "from google.colab import drive\n",
        "drive.mount('/content/drive')"
      ],
      "execution_count": 0,
      "outputs": [
        {
          "output_type": "stream",
          "text": [
            "Go to this URL in a browser: https://accounts.google.com/o/oauth2/auth?client_id=947318989803-6bn6qk8qdgf4n4g3pfee6491hc0brc4i.apps.googleusercontent.com&redirect_uri=urn%3Aietf%3Awg%3Aoauth%3A2.0%3Aoob&scope=email%20https%3A%2F%2Fwww.googleapis.com%2Fauth%2Fdocs.test%20https%3A%2F%2Fwww.googleapis.com%2Fauth%2Fdrive%20https%3A%2F%2Fwww.googleapis.com%2Fauth%2Fdrive.photos.readonly%20https%3A%2F%2Fwww.googleapis.com%2Fauth%2Fpeopleapi.readonly&response_type=code\n",
            "\n",
            "Enter your authorization code:\n",
            "··········\n",
            "Mounted at /content/drive\n"
          ],
          "name": "stdout"
        }
      ]
    },
    {
      "metadata": {
        "id": "cf_fYW7HPztf",
        "colab_type": "code",
        "colab": {}
      },
      "cell_type": "code",
      "source": [
        "baseFolder  = \"drive/My Drive/CheXpert Dataset/CheXpert-v1.0-small/\""
      ],
      "execution_count": 0,
      "outputs": []
    },
    {
      "metadata": {
        "id": "KyQIZO-UP1Wb",
        "colab_type": "code",
        "colab": {}
      },
      "cell_type": "code",
      "source": [
        "#Utility functions for cleaning the data\n",
        "\n",
        "def cleanLabel(x):\n",
        "    \n",
        "    labelCount = 0    \n",
        "    if x.Pleural_Effusion == 1:\n",
        "        labelCount += 1\n",
        "    if x.Edema == 1:\n",
        "        labelCount += 1\n",
        "    if x.Cardiomegaly ==1:\n",
        "        labelCount += 1\n",
        "    if x.Pneumonia == 1:\n",
        "        labelCount += 1\n",
        "    return labelCount\n",
        "    \n",
        "    \n",
        "\n",
        "def getLabel(x):\n",
        "    \n",
        "    if x.Pleural_Effusion ==1:\n",
        "        return \"Pleural_Effusion\"\n",
        "    elif x.Edema == 1:\n",
        "        return \"Edema\"\n",
        "    elif x.Cardiomegaly==1:\n",
        "        return \"Cardiomegaly\"\n",
        "    elif x.Pneumonia == 1:\n",
        "        return \"Pneumonia\"\n",
        "    else:\n",
        "        return \"None\""
      ],
      "execution_count": 0,
      "outputs": []
    },
    {
      "metadata": {
        "id": "_GO0ks8MP-hh",
        "colab_type": "code",
        "colab": {}
      },
      "cell_type": "code",
      "source": [
        "cols = ['Path',\n",
        " 'Sex',\n",
        " 'Age',\n",
        " 'View',\n",
        " 'AP/PA',\n",
        " 'No_Finding',\n",
        " 'Enlarged_Cardiomediastinum',\n",
        " 'Cardiomegaly',\n",
        " 'Lung_Opacity',\n",
        " 'Lung_Lesion',\n",
        " 'Edema',\n",
        " 'Consolidation',\n",
        " 'Pneumonia',\n",
        " 'Atelectasis',\n",
        " 'Pneumothorax',\n",
        " 'Pleural_Effusion',\n",
        " 'Pleural_Other',\n",
        " 'Fracture',\n",
        " 'Support_Devices']\n",
        "trainFile = pd.read_csv(os.path.join(baseFolder,'train.csv'), names = cols, header=0)\n",
        "validFile = pd.read_csv(os.path.join(baseFolder,'valid.csv'), names = cols, header=0)"
      ],
      "execution_count": 0,
      "outputs": []
    },
    {
      "metadata": {
        "id": "-TQG2wyrRBB1",
        "colab_type": "text"
      },
      "cell_type": "markdown",
      "source": [
        "### Dataloader\n"
      ]
    },
    {
      "metadata": {
        "id": "FUUUnXctSVRG",
        "colab_type": "code",
        "colab": {}
      },
      "cell_type": "code",
      "source": [
        "labelMap = {\"Pleural_Effusion\":0, \"Edema\":1,\"Cardiomegaly\":2,\"Pneumonia\":3}\n",
        "\n",
        "def getLabelDf(x):\n",
        "    x = x[36:]          #To account for the extra \"././\" added before the Path variable\n",
        "    x = df.loc[df.Path == x] \n",
        "    return labelMap[x.label.values[0]]"
      ],
      "execution_count": 0,
      "outputs": []
    },
    {
      "metadata": {
        "id": "97Ms1n_rRAMv",
        "colab_type": "code",
        "colab": {}
      },
      "cell_type": "code",
      "source": [
        "class LungDataset(Dataset):\n",
        "    \n",
        "\n",
        "    def __init__(self, csvFile, rootDir, transform = None):\n",
        "        \"\"\"\n",
        "        Args:\n",
        "            rootDir : Directory that has train, valid, train.csv and valid.csv\n",
        "            csvFile : train.csv or valid.csv\n",
        "        \"\"\"\n",
        "        \n",
        "        self.rootDir = rootDir\n",
        "        self.transform = transform\n",
        "        \n",
        "        cols = ['Path',\n",
        "                 'Sex',\n",
        "                 'Age',\n",
        "                 'View',\n",
        "                 'AP/PA',\n",
        "                 'No_Finding',\n",
        "                 'Enlarged_Cardiomediastinum',\n",
        "                 'Cardiomegaly',\n",
        "                 'Lung_Opacity',\n",
        "                 'Lung_Lesion',\n",
        "                 'Edema',\n",
        "                 'Consolidation',\n",
        "                 'Pneumonia',\n",
        "                 'Atelectasis',\n",
        "                 'Pneumothorax',\n",
        "                 'Pleural_Effusion',\n",
        "                 'Pleural_Other',\n",
        "                 'Fracture',\n",
        "                 'Support_Devices']\n",
        "        \n",
        "        self.df = pd.read_csv(os.path.join(rootDir,csvFile), names = cols, header=0)\n",
        "        \n",
        "        \n",
        "        #Modifying the path variable\n",
        "        self.df[\"Path\"] = self.df.Path.apply(lambda x : x.replace('CheXpert-v1.0-small',\"\")[1:])\n",
        "        \n",
        "        #retaining important vars\n",
        "        selectCols = ['Path',\"View\",'Sex',\"Pleural_Effusion\", \"Edema\",\"Cardiomegaly\",\"Pneumonia\"]\n",
        "        self.df = self.df[selectCols]\n",
        "        \n",
        "        self.df['isClean'] = self.df.apply(lambda x : cleanLabel(x), axis = 1)\n",
        "        #self.df[\"No\"] = (self.df.isClean == 0).astype(int)\n",
        "        #no_disease = self.df[self.df.isClean==0]\n",
        "        #Retaining only samples with 1 disease\n",
        "        self.df = self.df[self.df.isClean==1]\n",
        "        #self.df = pd.concat([self.df,no_disease])\n",
        "        \n",
        "        #Creating the label variable\n",
        "        self.df['label'] = self.df.apply(lambda x : labelMap[getLabel(x)], axis = 1)\n",
        "                \n",
        "\n",
        "\n",
        "\n",
        "    def __len__(self):\n",
        "        return len(self.df)\n",
        "\n",
        "    def __getitem__(self, idx):\n",
        "        \n",
        "        imgPath = os.path.join( self.rootDir, self.df.iloc[idx].Path)\n",
        "        image = Image.open(imgPath).convert('RGB')\n",
        "        \n",
        "        label = self.df.iloc[idx].label\n",
        "\n",
        "        if self.transform:\n",
        "            image = self.transform(image)\n",
        "\n",
        "        return image, label"
      ],
      "execution_count": 0,
      "outputs": []
    },
    {
      "metadata": {
        "id": "NKs_qVY5RGUX",
        "colab_type": "code",
        "colab": {}
      },
      "cell_type": "code",
      "source": [
        "trainDataset = LungDataset('valid.csv', baseFolder, transforms.Compose([Resize((256,256)), ToTensor()]))\n",
        "validationDataset = LungDataset('valid.csv', baseFolder, transforms.Compose([Resize((256,256)), ToTensor()]))"
      ],
      "execution_count": 0,
      "outputs": []
    },
    {
      "metadata": {
        "id": "3raXstr9RG-1",
        "colab_type": "code",
        "outputId": "b02d36fb-8546-4cf1-a439-f5b99a67fb5c",
        "colab": {
          "base_uri": "https://localhost:8080/",
          "height": 34
        }
      },
      "cell_type": "code",
      "source": [
        "e = next(iter(trainDataset))\n",
        "e[0].size()"
      ],
      "execution_count": 0,
      "outputs": [
        {
          "output_type": "execute_result",
          "data": {
            "text/plain": [
              "torch.Size([3, 256, 256])"
            ]
          },
          "metadata": {
            "tags": []
          },
          "execution_count": 13
        }
      ]
    },
    {
      "metadata": {
        "id": "HCH4axUeS3o-",
        "colab_type": "code",
        "colab": {}
      },
      "cell_type": "code",
      "source": [
        "train_data_loader = DataLoader(trainDataset, batch_size= 12, shuffle = True, num_workers = 4)\n",
        "validation_loader = DataLoader(validationDataset, batch_size= 12, shuffle = True, num_workers = 4)"
      ],
      "execution_count": 0,
      "outputs": []
    },
    {
      "metadata": {
        "id": "6ZkmUn3URHHo",
        "colab_type": "code",
        "outputId": "74056e45-6687-4b6b-cf96-8138f618caec",
        "colab": {
          "base_uri": "https://localhost:8080/",
          "height": 34
        }
      },
      "cell_type": "code",
      "source": [
        "for image, label in train_data_loader:\n",
        "    print(label)\n",
        "    \n",
        "    break;"
      ],
      "execution_count": 0,
      "outputs": [
        {
          "output_type": "stream",
          "text": [
            "tensor([1, 0, 2, 1, 2, 0, 0, 0, 1, 0, 0, 2])\n"
          ],
          "name": "stdout"
        }
      ]
    },
    {
      "metadata": {
        "id": "QjnhS5-BZMRI",
        "colab_type": "code",
        "colab": {}
      },
      "cell_type": "code",
      "source": [
        ""
      ],
      "execution_count": 0,
      "outputs": []
    },
    {
      "metadata": {
        "id": "IlZg-gCLZMzk",
        "colab_type": "text"
      },
      "cell_type": "markdown",
      "source": [
        "## Logger"
      ]
    },
    {
      "metadata": {
        "id": "oqHb3SOhZSKW",
        "colab_type": "code",
        "colab": {}
      },
      "cell_type": "code",
      "source": [
        ""
      ],
      "execution_count": 0,
      "outputs": []
    },
    {
      "metadata": {
        "id": "MwXD9_-JO70r",
        "colab_type": "code",
        "colab": {}
      },
      "cell_type": "code",
      "source": [
        "LOG_DIR = './logs'\n",
        "get_ipython().system_raw(\n",
        "    'tensorboard --logdir {} --host 0.0.0.0 --port 6006 &'\n",
        "    .format(LOG_DIR)\n",
        ")\n",
        "\n",
        "!if [ -f ngrok ] ; then echo \"Ngrok already installed\" ; else wget https://bin.equinox.io/c/4VmDzA7iaHb/ngrok-stable-linux-amd64.zip > /dev/null 2>&1 && unzip ngrok-stable-linux-amd64.zip > /dev/null 2>&1 ; fi"
      ],
      "execution_count": 0,
      "outputs": []
    },
    {
      "metadata": {
        "id": "05j4zm8uO_Uv",
        "colab_type": "code",
        "colab": {}
      },
      "cell_type": "code",
      "source": [
        "get_ipython().system_raw('./ngrok http 6006 &')"
      ],
      "execution_count": 0,
      "outputs": []
    },
    {
      "metadata": {
        "id": "9ZL1lY3UPBkT",
        "colab_type": "code",
        "outputId": "04bd6eef-3629-4a60-da74-6b040638d656",
        "colab": {
          "base_uri": "https://localhost:8080/",
          "height": 34
        }
      },
      "cell_type": "code",
      "source": [
        "! curl -s http://localhost:4040/api/tunnels | python3 -c \\\n",
        "    \"import sys, json; print('Tensorboard Link: ' +str(json.load(sys.stdin)['tunnels'][0]['public_url']))\""
      ],
      "execution_count": 0,
      "outputs": [
        {
          "output_type": "stream",
          "text": [
            "Tensorboard Link: https://4f4d7fff.ngrok.io\n"
          ],
          "name": "stdout"
        }
      ]
    },
    {
      "metadata": {
        "id": "H6qnFSapQU86",
        "colab_type": "code",
        "colab": {}
      },
      "cell_type": "code",
      "source": [
        "# Code referenced from https://gist.github.com/gyglim/1f8dfb1b5c82627ae3efcfbbadb9f514\n",
        "import tensorflow as tf\n",
        "import numpy as np\n",
        "import scipy.misc \n",
        "try:\n",
        "    from StringIO import StringIO  # Python 2.7\n",
        "except ImportError:\n",
        "    from io import BytesIO         # Python 3.x\n",
        "\n",
        "\n",
        "class Logger(object):\n",
        "    \n",
        "    def __init__(self, log_dir):\n",
        "        \"\"\"Create a summary writer logging to log_dir.\"\"\"\n",
        "        self.writer = tf.summary.FileWriter(log_dir)\n",
        "\n",
        "    def scalar_summary(self, tag, value, step):\n",
        "        \"\"\"Log a scalar variable.\"\"\"\n",
        "        summary = tf.Summary(value=[tf.Summary.Value(tag=tag, simple_value=value)])\n",
        "        self.writer.add_summary(summary, step)\n",
        "\n",
        "    def image_summary(self, tag, images, step):\n",
        "        \"\"\"Log a list of images.\"\"\"\n",
        "\n",
        "        img_summaries = []\n",
        "        for i, img in enumerate(images):\n",
        "            # Write the image to a string\n",
        "            try:\n",
        "                s = StringIO()\n",
        "            except:\n",
        "                s = BytesIO()\n",
        "            scipy.misc.toimage(img).save(s, format=\"png\")\n",
        "\n",
        "            # Create an Image object\n",
        "            img_sum = tf.Summary.Image(encoded_image_string=s.getvalue(),\n",
        "                                       height=img.shape[0],\n",
        "                                       width=img.shape[1])\n",
        "            # Create a Summary value\n",
        "            img_summaries.append(tf.Summary.Value(tag='%s/%d' % (tag, i), image=img_sum))\n",
        "\n",
        "        # Create and write Summary\n",
        "        summary = tf.Summary(value=img_summaries)\n",
        "        self.writer.add_summary(summary, step)\n",
        "        \n",
        "    def histo_summary(self, tag, values, step, bins=1000):\n",
        "        \"\"\"Log a histogram of the tensor of values.\"\"\"\n",
        "\n",
        "        # Create a histogram using numpy\n",
        "        counts, bin_edges = np.histogram(values, bins=bins)\n",
        "\n",
        "        # Fill the fields of the histogram proto\n",
        "        hist = tf.HistogramProto()\n",
        "        hist.min = float(np.min(values))\n",
        "        hist.max = float(np.max(values))\n",
        "        hist.num = int(np.prod(values.shape))\n",
        "        hist.sum = float(np.sum(values))\n",
        "        hist.sum_squares = float(np.sum(values**2))\n",
        "\n",
        "        # Drop the start of the first bin\n",
        "        bin_edges = bin_edges[1:]\n",
        "\n",
        "        # Add bin edges and counts\n",
        "        for edge in bin_edges:\n",
        "            hist.bucket_limit.append(edge)\n",
        "        for c in counts:\n",
        "            hist.bucket.append(c)\n",
        "\n",
        "        # Create and write Summary\n",
        "        summary = tf.Summary(value=[tf.Summary.Value(tag=tag, histo=hist)])\n",
        "        self.writer.add_summary(summary, step)\n",
        "        self.writer.flush()\n",
        "logger = Logger('./logs')\n"
      ],
      "execution_count": 0,
      "outputs": []
    },
    {
      "metadata": {
        "id": "24_Gy4XAPh_m",
        "colab_type": "text"
      },
      "cell_type": "markdown",
      "source": [
        "## Convolutional Neural Network"
      ]
    },
    {
      "metadata": {
        "id": "6Wz1SRoDTdJy",
        "colab_type": "code",
        "colab": {}
      },
      "cell_type": "code",
      "source": [
        "from torchvision import models\n",
        "import torch.nn as nn\n",
        "import torch.optim as optim"
      ],
      "execution_count": 0,
      "outputs": []
    },
    {
      "metadata": {
        "id": "cJlQn1pIQPTF",
        "colab_type": "code",
        "colab": {}
      },
      "cell_type": "code",
      "source": [
        "device = torch.device('cuda:0')\n",
        "\n",
        "input_size = 196608\n",
        "class Net(nn.Module):\n",
        "    def __init__(self, num_classes):\n",
        "        super(Net, self).__init__()\n",
        "\n",
        "        self.layer1 = nn.Sequential(\n",
        "            nn.Conv2d(3, 32, kernel_size=4, stride = 2),\n",
        "            nn.BatchNorm2d(32),\n",
        "            nn.ReLU(),\n",
        "            nn.MaxPool2d(kernel_size=2, stride=2))\n",
        "        self.layer2 = nn.Sequential(\n",
        "            nn.Conv2d(32, 64, kernel_size=3, stride = 2),\n",
        "            nn.BatchNorm2d(64),\n",
        "            nn.ReLU(),\n",
        "            nn.MaxPool2d(kernel_size=2, stride=2))\n",
        "        self.layer3 = nn.Sequential(\n",
        "            nn.Conv2d(64, 128, kernel_size=3, stride = 1),\n",
        "            nn.BatchNorm2d(128),\n",
        "            nn.ReLU(),\n",
        "            nn.MaxPool2d(kernel_size=2, stride=2))\n",
        "        self.fc1 = nn.Linear(4608, 256)\n",
        "        self.relu = nn.ReLU()\n",
        "        self.fc2 = nn.Linear(256,num_classes)\n",
        "    def forward(self,x):\n",
        "        out = self.layer1(x)\n",
        "        out = self.layer2(out)\n",
        "        out = self.layer3(out)\n",
        "        out = out.view(out.size(0),-1)\n",
        "        out = self.fc1(out)\n",
        "        out = self.relu(out)\n",
        "        out = self.fc2(out)\n",
        "        return out\n"
      ],
      "execution_count": 0,
      "outputs": []
    },
    {
      "metadata": {
        "id": "Giwch9Q5PhfG",
        "colab_type": "code",
        "colab": {}
      },
      "cell_type": "code",
      "source": [
        "def train(net, optimizer, criterion, train_loader, test_loader, epochs, size, model_name, plot):\n",
        "    model = net.to(device)\n",
        "    total_step = len(train_loader)\n",
        "    overall_step = 0\n",
        "    for epoch in range(epochs):\n",
        "        correct = 0\n",
        "        total = 0\n",
        "        for i, (images, labels) in enumerate(train_loader):\n",
        "            # Move tensors to configured device\n",
        "            images = images.to(device)\n",
        "            labels = labels.to(device)\n",
        "            #Forward Pass\n",
        "            outputs = model(images)\n",
        "            \n",
        "            loss = criterion(outputs, labels)\n",
        "            optimizer.zero_grad()\n",
        "            loss.backward()\n",
        "            #print(loss)\n",
        "            optimizer.step()\n",
        "            _, prediction = torch.max(outputs,1)\n",
        "            #print(outputs)\n",
        "            #print(labels)\n",
        "            #print(prediction)\n",
        "            total += labels.size(0)\n",
        "            correct += (prediction==labels).sum().item()\n",
        "            accuracy = (labels == prediction.squeeze()).float().mean()\n",
        "            overall_step+=1\n",
        "            if (i+1) % 10 == 0:\n",
        "              print ('Epoch [{}/{}], Step [{}/{}], Loss: {:.4f}'.format(epoch+1, epochs, i+1, total_step, loss.item()))\n",
        "            if plot:\n",
        "              info = { ('loss_' + model_name): loss.item(), ('accuracy_' + model_name): accuracy.item() }\n",
        "\n",
        "              for tag, value in info.items():\n",
        "                logger.scalar_summary(tag, value, overall_step+1)\n",
        "        print('Training Accuracy of the network after {} epochs: {} %'.format(epoch, 100*correct/total))\n",
        "    model.eval()\n",
        "    with torch.no_grad():\n",
        "        correct = 0\n",
        "        total = 0\n",
        "        for i, (images, labels) in enumerate(test_loader):\n",
        "            images = images.to(device)\n",
        "            labels = labels.to(device)\n",
        "            outputs = model(images)\n",
        "            _, predicted = torch.max(outputs.data, 1)\n",
        "            total += labels.size(0)\n",
        "            correct += (predicted == labels).sum().item()\n",
        "\n",
        "    print('Accuracy of the network on the 289 test images: {} %'.format(100 * correct / total))\n"
      ],
      "execution_count": 0,
      "outputs": []
    },
    {
      "metadata": {
        "id": "zVoJRqC-TjLU",
        "colab_type": "code",
        "colab": {}
      },
      "cell_type": "code",
      "source": [
        "num_classes = 4\n",
        "learning_rate = 0.0003\n",
        "model = Net(4).to(device)\n",
        "criterion = nn.CrossEntropyLoss()\n",
        "optimizer = torch.optim.Adam(model.parameters(), lr=learning_rate)\n",
        "epochs = 5\n"
      ],
      "execution_count": 0,
      "outputs": []
    },
    {
      "metadata": {
        "id": "_lCMABMxVNRb",
        "colab_type": "code",
        "outputId": "d58474e9-5515-4a58-abc3-72b63b40fd78",
        "colab": {
          "base_uri": "https://localhost:8080/",
          "height": 119
        }
      },
      "cell_type": "code",
      "source": [
        "train(model, optimizer, criterion, train_data_loader, validation_loader, epochs, input_size , 'cnn', True)"
      ],
      "execution_count": 0,
      "outputs": [
        {
          "output_type": "stream",
          "text": [
            "Training Accuracy of the network after 0 epochs: 25.37313432835821 %\n",
            "Training Accuracy of the network after 1 epochs: 41.791044776119406 %\n",
            "Training Accuracy of the network after 2 epochs: 41.791044776119406 %\n",
            "Training Accuracy of the network after 3 epochs: 43.28358208955224 %\n",
            "Training Accuracy of the network after 4 epochs: 44.776119402985074 %\n",
            "Accuracy of the network on the 289 test images: 43.28358208955224 %\n"
          ],
          "name": "stdout"
        }
      ]
    },
    {
      "metadata": {
        "id": "EZCB_SI8VOYo",
        "colab_type": "code",
        "outputId": "475e0dce-d56a-4c1a-fd08-646e47eea3a3",
        "colab": {
          "base_uri": "https://localhost:8080/",
          "height": 425
        }
      },
      "cell_type": "code",
      "source": [
        "model"
      ],
      "execution_count": 0,
      "outputs": [
        {
          "output_type": "execute_result",
          "data": {
            "text/plain": [
              "Net(\n",
              "  (layer1): Sequential(\n",
              "    (0): Conv2d(3, 32, kernel_size=(4, 4), stride=(2, 2))\n",
              "    (1): BatchNorm2d(32, eps=1e-05, momentum=0.1, affine=True, track_running_stats=True)\n",
              "    (2): ReLU()\n",
              "    (3): MaxPool2d(kernel_size=2, stride=2, padding=0, dilation=1, ceil_mode=False)\n",
              "  )\n",
              "  (layer2): Sequential(\n",
              "    (0): Conv2d(32, 64, kernel_size=(3, 3), stride=(2, 2))\n",
              "    (1): BatchNorm2d(64, eps=1e-05, momentum=0.1, affine=True, track_running_stats=True)\n",
              "    (2): ReLU()\n",
              "    (3): MaxPool2d(kernel_size=2, stride=2, padding=0, dilation=1, ceil_mode=False)\n",
              "  )\n",
              "  (layer3): Sequential(\n",
              "    (0): Conv2d(64, 128, kernel_size=(3, 3), stride=(1, 1))\n",
              "    (1): BatchNorm2d(128, eps=1e-05, momentum=0.1, affine=True, track_running_stats=True)\n",
              "    (2): ReLU()\n",
              "    (3): MaxPool2d(kernel_size=2, stride=2, padding=0, dilation=1, ceil_mode=False)\n",
              "  )\n",
              "  (fc1): Linear(in_features=4608, out_features=256, bias=True)\n",
              "  (relu): ReLU()\n",
              "  (fc2): Linear(in_features=256, out_features=4, bias=True)\n",
              "  (softmax): Softmax()\n",
              ")"
            ]
          },
          "metadata": {
            "tags": []
          },
          "execution_count": 36
        }
      ]
    },
    {
      "metadata": {
        "id": "ZKN7bCrKHQjQ",
        "colab_type": "code",
        "colab": {}
      },
      "cell_type": "code",
      "source": [
        "from torch.autograd import Variable\n",
        "def to_one_hot(y, n_dims=None):\n",
        "    \"\"\" Take integer y (tensor or variable) with n dims and convert it to 1-hot representation with n+1 dims. \"\"\"\n",
        "    y_tensor = y.data if isinstance(y, Variable) else y\n",
        "    y_tensor = y_tensor.type(torch.LongTensor).view(-1, 1)\n",
        "    n_dims = n_dims if n_dims is not None else int(torch.max(y_tensor)) + 1\n",
        "    y_one_hot = torch.zeros(y_tensor.size()[0], n_dims).scatter_(1, y_tensor, 1)\n",
        "    y_one_hot = y_one_hot.view(*y.shape, -1)\n",
        "    return Variable(y_one_hot) if isinstance(y, Variable) else y_one_hot"
      ],
      "execution_count": 0,
      "outputs": []
    },
    {
      "metadata": {
        "id": "jwsg3QmRHLpY",
        "colab_type": "code",
        "colab": {}
      },
      "cell_type": "code",
      "source": [
        ""
      ],
      "execution_count": 0,
      "outputs": []
    },
    {
      "metadata": {
        "id": "G3VZcJomT6Dz",
        "colab_type": "code",
        "colab": {}
      },
      "cell_type": "code",
      "source": [
        ""
      ],
      "execution_count": 0,
      "outputs": []
    },
    {
      "metadata": {
        "id": "HcRPBA0PUBDs",
        "colab_type": "code",
        "colab": {}
      },
      "cell_type": "code",
      "source": [
        ""
      ],
      "execution_count": 0,
      "outputs": []
    },
    {
      "metadata": {
        "id": "viHlSMv_gxRX",
        "colab_type": "code",
        "colab": {}
      },
      "cell_type": "code",
      "source": [
        "\n"
      ],
      "execution_count": 0,
      "outputs": []
    }
  ]
}