{
  "nbformat": 4,
  "nbformat_minor": 0,
  "metadata": {
    "colab": {
      "name": "Hypothesis.ipynb",
      "version": "0.3.2",
      "provenance": [],
      "collapsed_sections": []
    },
    "kernelspec": {
      "name": "python3",
      "display_name": "Python 3"
    },
    "accelerator": "GPU"
  },
  "cells": [
    {
      "metadata": {
        "id": "3VbRBvMDLSEq",
        "colab_type": "text"
      },
      "cell_type": "markdown",
      "source": [
        "# Testing Data Hypothesis"
      ]
    },
    {
      "metadata": {
        "id": "aF9iDdd6LQxB",
        "colab_type": "code",
        "colab": {}
      },
      "cell_type": "code",
      "source": [
        "import torch\n",
        "import pandas as pd\n",
        "import numpy as np\n",
        "import matplotlib.pyplot as plt\n",
        "from torch.utils.data import Dataset, DataLoader\n",
        "from torchvision import transforms, utils\n",
        "from torchvision.transforms import ToTensor,Resize\n",
        "\n",
        "from PIL import Image\n",
        "# Ignore warnings\n",
        "import warnings\n",
        "warnings.filterwarnings(\"ignore\")\n",
        "\n",
        "import os\n",
        "import numpy as np\n",
        "import time\n",
        "import sys\n",
        "import csv\n",
        "import cv2\n",
        "import matplotlib.pyplot as plt\n",
        "\n",
        "import torch\n",
        "import torch.nn as nn\n",
        "import torch.backends.cudnn as cudnn\n",
        "import torchvision\n",
        "import torchvision.transforms as transforms\n",
        "import torch.optim as optim\n",
        "import torch.nn.functional as tfunc\n",
        "from torch.utils.data import Dataset\n",
        "from torch.utils.data.dataset import random_split\n",
        "from torch.utils.data import DataLoader\n",
        "from torch.optim.lr_scheduler import ReduceLROnPlateau\n",
        "from PIL import Image\n",
        "import torch.nn.functional as func\n",
        "\n",
        "from sklearn.metrics.ranking import roc_auc_score\n",
        "import sklearn.metrics as metrics\n",
        "import random\n",
        "\n",
        "use_gpu = torch.cuda.is_available()"
      ],
      "execution_count": 0,
      "outputs": []
    },
    {
      "metadata": {
        "id": "zQhkXG0NLoVN",
        "colab_type": "code",
        "colab": {}
      },
      "cell_type": "code",
      "source": [
        "#Transformations\n",
        "transformList = []\n",
        "transformList.append(transforms.Resize((256,256)))\n",
        "#transformList.append(transforms.RandomHorizontalFlip())\n",
        "transformList.append(transforms.ToTensor())\n",
        "transformList.append(transforms.Normalize([0.485, 0.456, 0.406], [0.229, 0.224, 0.225]))      \n",
        "transformSequence=transforms.Compose(transformList)"
      ],
      "execution_count": 0,
      "outputs": []
    },
    {
      "metadata": {
        "id": "44N4FuFnex9h",
        "colab_type": "text"
      },
      "cell_type": "markdown",
      "source": [
        "### Testing with DenseNets"
      ]
    },
    {
      "metadata": {
        "id": "o5Bsu_GyNNmr",
        "colab_type": "code",
        "colab": {}
      },
      "cell_type": "code",
      "source": [
        "from torchvision import models\n",
        "import torch.nn as nn\n",
        "import torch.optim as optim\n",
        "\n",
        "device = torch.device('cuda:0')\n",
        "\n",
        "input_size = 196608\n",
        "class Net(nn.Module):\n",
        "    def __init__(self, num_classes):\n",
        "        super(Net, self).__init__()\n",
        "        \n",
        "        self.densenet = torchvision.models.densenet121(pretrained=True)\n",
        "        self.densenet.classifier = nn.Sequential(\n",
        "            nn.Linear(self.densenet.classifier.in_features, num_classes),\n",
        "            nn.Sigmoid()\n",
        "        )\n",
        "        \n",
        "    def forward(self,x):\n",
        "        x = self.densenet(x)\n",
        "        return x\n"
      ],
      "execution_count": 0,
      "outputs": []
    },
    {
      "metadata": {
        "id": "nxlGRF6WNd6a",
        "colab_type": "code",
        "colab": {}
      },
      "cell_type": "code",
      "source": [
        "device = torch.device(\"cuda\")\n",
        "model = Net(14)\n",
        "model.load_state_dict(torch.load('densenet_5epochs.pt', map_location=\"cuda:0\")) \n",
        "model = model.cuda()"
      ],
      "execution_count": 0,
      "outputs": []
    },
    {
      "metadata": {
        "id": "ovaxshXOQE-g",
        "colab_type": "code",
        "colab": {}
      },
      "cell_type": "code",
      "source": [
        "transformSequence=transforms.Compose(transformList)"
      ],
      "execution_count": 0,
      "outputs": []
    },
    {
      "metadata": {
        "id": "TZibX0yZPN23",
        "colab_type": "text"
      },
      "cell_type": "markdown",
      "source": [
        ""
      ]
    },
    {
      "metadata": {
        "id": "I282S41dN5hb",
        "colab_type": "code",
        "colab": {}
      },
      "cell_type": "code",
      "source": [
        "## Hypothesis 1: White color around the lungs increases the likelyhood of a pathology being present"
      ],
      "execution_count": 0,
      "outputs": []
    },
    {
      "metadata": {
        "id": "EZW8JvIpQbOF",
        "colab_type": "code",
        "colab": {}
      },
      "cell_type": "code",
      "source": [
        "class TestDataset(Dataset):\n",
        "    def __init__(self, transform=None):\n",
        "        image_files = []\n",
        "        image_files.append('effusion (1).jpg')\n",
        "        image_files.append('Lesion.jpg')\n",
        "        image_files.append('Orginal.jpg')\n",
        "        image_files.append('sample_data/Lesion 2.jpg')\n",
        "        image_files.append('Bone Fracture 3.jpg')\n",
        "        image_files.append('Edema Lvl 1.jpg')\n",
        "        image_files.append('Edema Lvl 3.jpg')\n",
        "        image_files.append('Lesion.jpg')\n",
        "        image_files.append('Bone Fracture 2.jpg')\n",
        "        image_files.append('Darker Version.jpg')\n",
        "        image_files.append('Edema Lvl 2.jpg')\n",
        "        image_files.append('Lesion 2.jpg')\n",
        "        self.image_files = image_files\n",
        "        self.transform = transform\n",
        "\n",
        "    def __getitem__(self, index):\n",
        "        location = self.image_files[index]\n",
        "        image = Image.open(location).convert('RGB')\n",
        "        study = location.rsplit('/', 1)[0]\n",
        "        if self.transform is not None:\n",
        "            image = self.transform(image)\n",
        "        return image, study\n",
        "\n",
        "    def __len__(self):\n",
        "        return len(self.image_files)"
      ],
      "execution_count": 0,
      "outputs": []
    },
    {
      "metadata": {
        "colab_type": "code",
        "id": "97Ms1n_rRAMv",
        "colab": {}
      },
      "cell_type": "code",
      "source": [
        "#Transformations\n",
        "transformList = []\n",
        "transformList.append(transforms.Resize((256,256)))\n",
        "#transformList.append(transforms.RandomHorizontalFlip())\n",
        "transformList.append(transforms.ToTensor())\n",
        "transformList.append(transforms.Normalize([0.485, 0.456, 0.406], [0.229, 0.224, 0.225]))      \n",
        "transformSequence=transforms.Compose(transformList)"
      ],
      "execution_count": 0,
      "outputs": []
    },
    {
      "metadata": {
        "colab_type": "code",
        "id": "yrCSVn6SNPzP",
        "colab": {}
      },
      "cell_type": "code",
      "source": [
        "testDataset = TestDataset(transformSequence) "
      ],
      "execution_count": 0,
      "outputs": []
    },
    {
      "metadata": {
        "colab_type": "code",
        "id": "NKs_qVY5RGUX",
        "colab": {}
      },
      "cell_type": "code",
      "source": [
        "test_data_loader = DataLoader(testDataset, batch_size= 2, shuffle = False)\n"
      ],
      "execution_count": 0,
      "outputs": []
    },
    {
      "metadata": {
        "id": "SHNvnnZmvR_7",
        "colab_type": "code",
        "colab": {}
      },
      "cell_type": "code",
      "source": [
        "results_df = pd.DataFrame(columns=['Cardiomegaly','Edema','Consolidation','Atelectasis','Pleural Effusion', 'Study'])"
      ],
      "execution_count": 0,
      "outputs": []
    },
    {
      "metadata": {
        "colab_type": "code",
        "id": "HCH4axUeS3o-",
        "outputId": "adc10a02-d74e-4830-99ff-56cc6d5a7d4b",
        "colab": {
          "base_uri": "https://localhost:8080/",
          "height": 323
        }
      },
      "cell_type": "code",
      "source": [
        "model.eval()\n",
        "with torch.no_grad():\n",
        "    #print(image_files)\n",
        "    for image, location in test_data_loader:\n",
        "        print(image.shape)\n",
        "        image = image.cuda()\n",
        "        pred_label = model(image)\n",
        "        print(location)\n",
        "        locationnp  = np.asarray(location)\n",
        "        data = np.column_stack((pred_label.cpu().numpy()[:,[2,5,6,8,10]],locationnp))\n",
        "        df = pd.DataFrame(data, columns=['Cardiomegaly','Edema','Consolidation','Atelectasis','Pleural Effusion', 'Study'])\n",
        "        results_df = results_df.append(df)\n",
        "        print(df)\n",
        "       \n"
      ],
      "execution_count": 0,
      "outputs": [
        {
          "output_type": "stream",
          "text": [
            "torch.Size([2, 3, 256, 256])\n",
            "('effusion (1).jpg', 'Lesion.jpg')\n",
            "  Cardiomegaly        Edema Consolidation Atelectasis Pleural Effusion  \\\n",
            "0    0.1572724   0.16132286    0.17990588  0.37093908        0.8927877   \n",
            "1  0.031204078  0.022872426   0.071938716  0.10460749      0.034354676   \n",
            "\n",
            "              Study  \n",
            "0  effusion (1).jpg  \n",
            "1        Lesion.jpg  \n",
            "torch.Size([2, 3, 256, 256])\n",
            "('Orginal.jpg', 'sample_data')\n",
            "  Cardiomegaly        Edema Consolidation  Atelectasis Pleural Effusion  \\\n",
            "0  0.022906184   0.02041955   0.022690155  0.074977286      0.020221872   \n",
            "1  0.023046516  0.027376648   0.026098425    0.0838077      0.018793723   \n",
            "\n",
            "         Study  \n",
            "0  Orginal.jpg  \n",
            "1  sample_data  \n"
          ],
          "name": "stdout"
        }
      ]
    },
    {
      "metadata": {
        "id": "HmJC2oMHvk3k",
        "colab_type": "code",
        "outputId": "7d3aed73-c1d3-454a-d356-a79b612c9e86",
        "colab": {
          "base_uri": "https://localhost:8080/",
          "height": 173
        }
      },
      "cell_type": "code",
      "source": [
        "results_df"
      ],
      "execution_count": 0,
      "outputs": [
        {
          "output_type": "execute_result",
          "data": {
            "text/html": [
              "<div>\n",
              "<style scoped>\n",
              "    .dataframe tbody tr th:only-of-type {\n",
              "        vertical-align: middle;\n",
              "    }\n",
              "\n",
              "    .dataframe tbody tr th {\n",
              "        vertical-align: top;\n",
              "    }\n",
              "\n",
              "    .dataframe thead th {\n",
              "        text-align: right;\n",
              "    }\n",
              "</style>\n",
              "<table border=\"1\" class=\"dataframe\">\n",
              "  <thead>\n",
              "    <tr style=\"text-align: right;\">\n",
              "      <th></th>\n",
              "      <th>Cardiomegaly</th>\n",
              "      <th>Edema</th>\n",
              "      <th>Consolidation</th>\n",
              "      <th>Atelectasis</th>\n",
              "      <th>Pleural Effusion</th>\n",
              "      <th>Study</th>\n",
              "    </tr>\n",
              "  </thead>\n",
              "  <tbody>\n",
              "    <tr>\n",
              "      <th>0</th>\n",
              "      <td>0.1572724</td>\n",
              "      <td>0.16132286</td>\n",
              "      <td>0.17990588</td>\n",
              "      <td>0.37093908</td>\n",
              "      <td>0.8927877</td>\n",
              "      <td>effusion (1).jpg</td>\n",
              "    </tr>\n",
              "    <tr>\n",
              "      <th>1</th>\n",
              "      <td>0.031204078</td>\n",
              "      <td>0.022872426</td>\n",
              "      <td>0.071938716</td>\n",
              "      <td>0.10460749</td>\n",
              "      <td>0.034354676</td>\n",
              "      <td>Lesion.jpg</td>\n",
              "    </tr>\n",
              "    <tr>\n",
              "      <th>0</th>\n",
              "      <td>0.022906184</td>\n",
              "      <td>0.02041955</td>\n",
              "      <td>0.022690155</td>\n",
              "      <td>0.074977286</td>\n",
              "      <td>0.020221872</td>\n",
              "      <td>Orginal.jpg</td>\n",
              "    </tr>\n",
              "    <tr>\n",
              "      <th>1</th>\n",
              "      <td>0.1572724</td>\n",
              "      <td>0.16132286</td>\n",
              "      <td>0.17990588</td>\n",
              "      <td>0.37093908</td>\n",
              "      <td>0.8927877</td>\n",
              "      <td>effusion (1).jpg</td>\n",
              "    </tr>\n",
              "  </tbody>\n",
              "</table>\n",
              "</div>"
            ],
            "text/plain": [
              "  Cardiomegaly        Edema Consolidation  Atelectasis Pleural Effusion  \\\n",
              "0    0.1572724   0.16132286    0.17990588   0.37093908        0.8927877   \n",
              "1  0.031204078  0.022872426   0.071938716   0.10460749      0.034354676   \n",
              "0  0.022906184   0.02041955   0.022690155  0.074977286      0.020221872   \n",
              "1    0.1572724   0.16132286    0.17990588   0.37093908        0.8927877   \n",
              "\n",
              "              Study  \n",
              "0  effusion (1).jpg  \n",
              "1        Lesion.jpg  \n",
              "0       Orginal.jpg  \n",
              "1  effusion (1).jpg  "
            ]
          },
          "metadata": {
            "tags": []
          },
          "execution_count": 151
        }
      ]
    },
    {
      "metadata": {
        "id": "B9DiwMlbSH-Y",
        "colab_type": "code",
        "colab": {}
      },
      "cell_type": "code",
      "source": [
        "results_df = results_df.groupby(by='Study').max()[['Cardiomegaly','Edema','Consolidation','Atelectasis','Pleural Effusion']].reset_index()\n",
        "results_df"
      ],
      "execution_count": 0,
      "outputs": []
    }
  ]
}